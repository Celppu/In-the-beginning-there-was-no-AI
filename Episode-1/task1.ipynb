{
 "cells": [
  {
   "cell_type": "markdown",
   "metadata": {},
   "source": [
    "# Basics  of jupyter notebooks\n",
    "In this lesson we learn to use python in jupyter notebook. We will learn to use markdown and code cells. We will also learn to use the print function and the input function."
   ]
  },
  {
   "cell_type": "code",
   "execution_count": 3,
   "metadata": {},
   "outputs": [
    {
     "name": "stdout",
     "output_type": "stream",
     "text": [
      "Hello World!\n"
     ]
    }
   ],
   "source": [
    "# <- Run this code cell by clicking the \"Run\" button on the left side of this cell\n",
    "# This is a comment, it will not be executed by the Python interpreter\n",
    "\n",
    "# Hello wolrd\n",
    "print(\"Hello World!\")"
   ]
  },
  {
   "cell_type": "markdown",
   "metadata": {},
   "source": [
    "There should be \"Hello World!\" printed on the screen.\n",
    "\n",
    "Next we will learn to use the input function. The input function is used to take input from the user. The input function takes a string as an argument. This string is displayed on the screen and the user is expected to enter a value. The value entered by the user is returned by the input function."
   ]
  },
  {
   "cell_type": "code",
   "execution_count": 4,
   "metadata": {},
   "outputs": [
    {
     "name": "stdout",
     "output_type": "stream",
     "text": [
      "Hello bläh!\n"
     ]
    }
   ],
   "source": [
    "name = input(\"Give me your name: \")\n",
    "\n",
    "# This is a comment\n",
    "\n",
    "print(f\"Hello {name}!\")"
   ]
  },
  {
   "cell_type": "markdown",
   "metadata": {},
   "source": [
    "Running above code should pop up a input field and then print your input."
   ]
  },
  {
   "cell_type": "markdown",
   "metadata": {},
   "source": [
    "# Task 1\n",
    "## Problem Statement\n",
    "Define a function that takes arguments\n",
    "1. a string. This will be message text\n",
    "2. a string. This will be user name to find in the message text\n",
    "\n",
    "User name should also be with @ symbol. For example if user name is \"John\" then it should be @John\n",
    "\n",
    "Reason for this task:\n",
    "For bots you might need to find user mentions in the message text. This is a simple task to get you started with python functions.\n"
   ]
  },
  {
   "cell_type": "code",
   "execution_count": null,
   "metadata": {},
   "outputs": [],
   "source": [
    "# Comment your code for readability\n",
    "\n",
    "%pip install termcolor\n",
    "from termcolor import colored\n",
    "\n",
    "# Arguments\n",
    "# message - string\n",
    "# name - string\n",
    "# return -\n",
    "# bool - True if user is mentioned in the message, False otherwise\n",
    "\n",
    "def is_user_mentioned(message, name):\n",
    "    ### YOUR CODE HERE ###\n",
    "    \n",
    "    \n",
    "    \n",
    "    return None"
   ]
  },
  {
   "cell_type": "code",
   "execution_count": null,
   "metadata": {},
   "outputs": [
    {
     "name": "stdout",
     "output_type": "stream",
     "text": [
      "Requirement already satisfied: termcolor in c:\\users\\mee\\appdata\\local\\programs\\python\\python312\\lib\\site-packages (2.5.0)\n",
      "Note: you may need to restart the kernel to use updated packages.\n",
      "\u001b[31mTest 1 failed: User is not mentioned in the message.\u001b[0m\n",
      "\u001b[31mTest 2 failed: User is mentioned in the message.\u001b[0m\n"
     ]
    },
    {
     "name": "stderr",
     "output_type": "stream",
     "text": [
      "\n",
      "[notice] A new release of pip is available: 24.0 -> 24.3.1\n",
      "[notice] To update, run: python.exe -m pip install --upgrade pip\n"
     ]
    }
   ],
   "source": [
    "# Test your code\n",
    "message = \"Hello @John!\"\n",
    "name = \"John\"\n",
    "\n",
    "\n",
    "\n",
    "# Test 1\n",
    "if is_user_mentioned(message, name):\n",
    "\tprint(colored(\"Test 1 success: User is mentioned in the message.\", \"green\"))\n",
    "else:\n",
    "\tprint(colored(\"Test 1 failed: User is not mentioned in the message.\", \"red\"))\n",
    "\n",
    "# Test 2\n",
    "message = \"Hello @John!\"\n",
    "name = \"Jane\"\n",
    "if not is_user_mentioned(message, name):\n",
    "    print(colored(\"Test 2 success: User is not mentioned in the message.\", \"green\"))\n",
    "else:\n",
    "    print(colored(\"Test 2 failed: User is mentioned in the message.\", \"red\"))"
   ]
  }
 ],
 "metadata": {
  "kernelspec": {
   "display_name": "Python 3",
   "language": "python",
   "name": "python3"
  },
  "language_info": {
   "codemirror_mode": {
    "name": "ipython",
    "version": 3
   },
   "file_extension": ".py",
   "mimetype": "text/x-python",
   "name": "python",
   "nbconvert_exporter": "python",
   "pygments_lexer": "ipython3",
   "version": "3.12.3"
  }
 },
 "nbformat": 4,
 "nbformat_minor": 2
}
